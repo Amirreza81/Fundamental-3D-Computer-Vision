{
 "cells": [
  {
   "cell_type": "markdown",
   "metadata": {
    "id": "IHZfoNCmBVO-"
   },
   "source": [
    "Name:     AmirReza Azari        \n",
    "Student ID: 99101087"
   ]
  },
  {
   "cell_type": "markdown",
   "metadata": {
    "id": "Imp0o_BDMPc4"
   },
   "source": [
    "**Part 1**\n",
    "\n",
    " Write two functions named \"camera_matrix\" and \"camera_projection\". The first one gets all the camera parameters, containing λ, f (focal length), Sx, Sy, Sθ, Ox, Oy, R, T, and returns the camera matrix (Please provide comments above each stage of transformation). The second function projects a given 3D point on image and returns a 2D point in pixel coordinates."
   ]
  },
  {
   "cell_type": "code",
   "execution_count": 1,
   "metadata": {
    "id": "YCw0SrVcBRpe"
   },
   "outputs": [],
   "source": [
    "import numpy as np\n",
    "import matplotlib.pyplot as plt\n",
    "\n",
    "def camera_matrix(landa, f, Sx, Sy, S_theta, Ox, Oy, R, T):\n",
    "\n",
    "    matrix = np.matrix([[f*Sx, f*S_theta, Ox],\n",
    "                       [0, f*Sy, Oy],\n",
    "                       [0, 0, 1]])\n",
    "    \n",
    "    p_mat = np.matrix([[1,0,0,0],\n",
    "                      [0,1,0,0],\n",
    "                      [0,0,1,0]])\n",
    "    base_mat = np.matrix([0,0,0,1])\n",
    "    rt_mat = np.concatenate((R, T), axis=1)\n",
    "    rt_mat = np.concatenate((rt_mat, base_mat), axis=0)\n",
    "    \n",
    "    matrix = np.matmul(matrix, p_mat)\n",
    "    matrix = np.matmul(matrix, rt_mat)\n",
    "    return matrix/landa\n",
    "\n",
    "def camera_projection(X, Y, Z, matrix):\n",
    "\n",
    "    main_mat = np.matrix([[X],\n",
    "                         [Y],\n",
    "                         [Z],\n",
    "                         [1]])\n",
    "    \n",
    "    proj_mat = np.matmul(matrix, main_mat)\n",
    "    x = proj_mat.item((0, 0)) / proj_mat.item((2, 0))\n",
    "    y = proj_mat.item((1, 0)) / proj_mat.item((2, 0))\n",
    "\n",
    "    return x, y\n"
   ]
  },
  {
   "cell_type": "markdown",
   "metadata": {
    "id": "sNDAg8TtSmHY"
   },
   "source": [
    "**Part 2**\n",
    "\n",
    "Consider a pinhole camera with center located at (1, 1, -3), which its focal length is 100, scale factors (Sx, Sy) are both 1 and pixel coordinates of principal point is (50, 50). Also skew parameter is zero. The angle of the camera is such that the optical axis of the camera is parallel to the z axis. Using the previous function obtain the whole camera matrix."
   ]
  },
  {
   "cell_type": "code",
   "execution_count": 2,
   "metadata": {
    "id": "hxfSKvOdTEe_"
   },
   "outputs": [
    {
     "name": "stdout",
     "output_type": "stream",
     "text": [
      "[[100.   0.  50.  50.]\n",
      " [  0. 100.  50.  50.]\n",
      " [  0.   0.   1.   3.]]\n"
     ]
    }
   ],
   "source": [
    "landa = 1\n",
    "R = np.matrix([[1,0,0],\n",
    "              [0,1,0],\n",
    "              [0,0,1]])\n",
    "T = np.matrix([[-1],\n",
    "              [-1],\n",
    "              [3]])\n",
    "f = 100\n",
    "Sx = 1\n",
    "Sy = 1 \n",
    "S_theta = 0 \n",
    "Ox = 50\n",
    "Oy = 50\n",
    "matrix = camera_matrix(landa, f, Sx, Sy, S_theta, Ox, Oy, R, T)\n",
    "print(matrix)"
   ]
  },
  {
   "cell_type": "markdown",
   "metadata": {
    "id": "5jGzVpW-TFIb"
   },
   "source": [
    "**Part 3**\n",
    "\n",
    "Suppose that vector V: (0, 1, 1) is located at (1, 1, 3) in 3D space. Apply the obtained camera matrix to V. Plot the result in pixel coordinates in a 2D plot. From which step of projection the length of the vector changes?"
   ]
  },
  {
   "cell_type": "markdown",
   "metadata": {},
   "source": [
    "پس از تولید بردار با ماتریس کالیبراسیون، طول بردار در نتیجه ضرب فاکتورهای مقیاس به بردار تغییر می کند.\n",
    "(result of multiplying scale factors to vector)"
   ]
  },
  {
   "cell_type": "code",
   "execution_count": 3,
   "metadata": {
    "id": "hxRF8-MLTbFZ"
   },
   "outputs": [
    {
     "data": {
      "image/png": "[encoded data removed]",
      "text/plain": [
       "<Figure size 432x288 with 1 Axes>"
      ]
     },
     "metadata": {
      "needs_background": "light"
     },
     "output_type": "display_data"
    }
   ],
   "source": [
    "# p_1_x, p_1_y = camera_projection(1, 1, 3, matrix)\n",
    "# p_2_x, p_2_y = camera_projection(1, 2, 4, matrix)\n",
    "x_values = []\n",
    "y_values = []\n",
    "x = 1\n",
    "y = 1\n",
    "z = 3\n",
    "for i in range(10):\n",
    "    p_1_x, p_1_y = camera_projection(x, y, z, matrix)\n",
    "    x_values.append(p_1_x)\n",
    "    y_values.append(p_1_y)\n",
    "    x = x\n",
    "    y = y + i * 1\n",
    "    z = z + i * 1\n",
    "plt.plot(x_values, y_values, 'bo', linestyle=\"--\")\n",
    "plt.show()"
   ]
  },
  {
   "cell_type": "markdown",
   "metadata": {
    "id": "DhVMnoXWbYcM"
   },
   "source": [
    "**Part 4**\n",
    "\n",
    "If the camera is rotated by +25 degrees around x axis, how would R and T change? What would the final image be?"
   ]
  },
  {
   "cell_type": "code",
   "execution_count": 4,
   "metadata": {
    "id": "RWnW4HvgbhVB"
   },
   "outputs": [
    {
     "name": "stdout",
     "output_type": "stream",
     "text": [
      "[[100.          21.13091309  45.31538935  50.        ]\n",
      " [  0.         111.76169179   3.05356318  50.        ]\n",
      " [  0.           0.42261826   0.90630779   3.        ]]\n"
     ]
    },
    {
     "data": {
      "image/png": "[encoded data removed]",
      "text/plain": [
       "<Figure size 432x288 with 1 Axes>"
      ]
     },
     "metadata": {
      "needs_background": "light"
     },
     "output_type": "display_data"
    }
   ],
   "source": [
    "import math\n",
    "# T does not change\n",
    "R = np.matrix([[1, 0, 0],\n",
    "              [0, math.cos(np.pi/180*25), -math.sin(np.pi/180*25)],\n",
    "              [0, math.sin(np.pi/180*25), math.cos(np.pi/180*25)]])\n",
    "matrix = camera_matrix(landa, f, Sx, Sy, S_theta, Ox, Oy, R, T)\n",
    "print(matrix)\n",
    "x_values = []\n",
    "y_values = []\n",
    "x = 1\n",
    "y = 1\n",
    "z = 3\n",
    "for i in range(10):\n",
    "    p_1_x, p_1_y = camera_projection(x, y, z, matrix)\n",
    "    x_values.append(p_1_x)\n",
    "    y_values.append(p_1_y)\n",
    "    x = x\n",
    "    y = y + i * 1\n",
    "    z = z + i * 1\n",
    "plt.plot(x_values, y_values, 'bo', linestyle=\"--\")\n",
    "plt.show()"
   ]
  }
 ],
 "metadata": {
  "colab": {
   "provenance": []
  },
  "kernelspec": {
   "display_name": "Python 3 (ipykernel)",
   "language": "python",
   "name": "python3"
  },
  "language_info": {
   "codemirror_mode": {
    "name": "ipython",
    "version": 3
   },
   "file_extension": ".py",
   "mimetype": "text/x-python",
   "name": "python",
   "nbconvert_exporter": "python",
   "pygments_lexer": "ipython3",
   "version": "3.9.7"
  }
 },
 "nbformat": 4,
 "nbformat_minor": 1
}
